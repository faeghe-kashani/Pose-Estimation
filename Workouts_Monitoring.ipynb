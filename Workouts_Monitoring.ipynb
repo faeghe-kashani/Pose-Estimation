{
  "cells": [
    {
      "cell_type": "markdown",
      "source": [
        "# Workouts Monitoring using Ultralytics YOLOv8"
      ],
      "metadata": {
        "id": "tZsz8ymG6PY1"
      }
    },
    {
      "cell_type": "markdown",
      "source": [
        "Advantages of Workouts Monitoring?\n",
        "\n",
        "* Optimized Performance: Tailoring workouts based on monitoring data for\n",
        "better results.\n",
        "* Goal Achievement: Track and adjust fitness goals for measurable progress.\n",
        "* Personalization: Customized workout plans based on individual data for effectiveness.\n",
        "* Health Awareness: Early detection of patterns indicating health issues or over-training.\n",
        "* Informed Decisions: Data-driven decisions for adjusting routines and setting realistic goals."
      ],
      "metadata": {
        "id": "LqYdqVMY5wPQ"
      }
    },
    {
      "cell_type": "code",
      "source": [
        "!pip install ultralytics\n",
        "import cv2\n",
        "from ultralytics import YOLO, solutions"
      ],
      "metadata": {
        "id": "DSM6C9Qr4IRq"
      },
      "execution_count": null,
      "outputs": []
    },
    {
      "cell_type": "code",
      "source": [
        "model = YOLO(\"yolov8n-pose.pt\")\n",
        "cap = cv2.VideoCapture(\"/content/fit.mp4\")\n",
        "assert cap.isOpened(), \"Error reading video file\"\n",
        "w, h, fps = (int(cap.get(x)) for x in (cv2.CAP_PROP_FRAME_WIDTH, cv2.CAP_PROP_FRAME_HEIGHT, cv2.CAP_PROP_FPS))\n",
        "\n",
        "video_writer = cv2.VideoWriter(\"workouts.avi\", cv2.VideoWriter_fourcc(*\"mp4v\"), fps, (w, h))\n",
        "\n",
        "gym_object = solutions.AIGym(\n",
        "    line_thickness=2,\n",
        "    view_img=True,\n",
        "    pose_type=\"squat\",\n",
        "    kpts_to_check=[6, 8, 10],\n",
        ")\n",
        "\n",
        "while cap.isOpened():\n",
        "    success, im0 = cap.read()\n",
        "    if not success:\n",
        "        print(\"Video frame is empty or video processing has been successfully completed.\")\n",
        "        break\n",
        "    results = model.track(im0, verbose=False)\n",
        "    im0 = gym_object.start_counting(im0, results)\n",
        "    video_writer.write(im0)\n",
        "\n",
        "cv2.destroyAllWindows()\n",
        "video_writer.release()"
      ],
      "metadata": {
        "id": "GUXQ3ylv3F5v",
        "outputId": "81db3010-3caa-41ad-8b38-b319b6318bee",
        "colab": {
          "base_uri": "https://localhost:8080/"
        }
      },
      "execution_count": null,
      "outputs": [
        {
          "output_type": "stream",
          "name": "stdout",
          "text": [
            "WARNING ⚠️ Environment does not support cv2.imshow() or PIL Image.show()\n",
            "\n",
            "Video frame is empty or video processing has been successfully completed.\n"
          ]
        }
      ]
    }
  ],
  "metadata": {
    "colab": {
      "provenance": [],
      "gpuType": "T4"
    },
    "kernelspec": {
      "display_name": "Python 3",
      "name": "python3"
    },
    "accelerator": "GPU"
  },
  "nbformat": 4,
  "nbformat_minor": 0
}